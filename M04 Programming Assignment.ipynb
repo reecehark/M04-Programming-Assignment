{
 "cells": [
  {
   "cell_type": "code",
   "execution_count": null,
   "id": "8e4065db",
   "metadata": {},
   "outputs": [],
   "source": [
    "#Reece Harkness\n",
    "#M04 Programming Assignment.ipynb\n",
    "#4/16/23"
   ]
  },
  {
   "cell_type": "code",
   "execution_count": 3,
   "id": "ce1b46f6",
   "metadata": {},
   "outputs": [],
   "source": [
    "#11.1\n",
    "def hours():\n",
    "    print('Open 9-5 daily')"
   ]
  },
  {
   "cell_type": "code",
   "execution_count": 4,
   "id": "0c6bb05a",
   "metadata": {},
   "outputs": [
    {
     "ename": "SyntaxError",
     "evalue": "invalid syntax (566533872.py, line 3)",
     "output_type": "error",
     "traceback": [
      "\u001b[1;36m  Cell \u001b[1;32mIn[4], line 3\u001b[1;36m\u001b[0m\n\u001b[1;33m    Open 9-5 daily\u001b[0m\n\u001b[1;37m         ^\u001b[0m\n\u001b[1;31mSyntaxError\u001b[0m\u001b[1;31m:\u001b[0m invalid syntax\n"
     ]
    }
   ],
   "source": [
    "#11.2\n",
    ">>> import zoo as menagerie\n",
    ">>> menagerie.hours()\n",
    "Open 9-5 daily"
   ]
  },
  {
   "cell_type": "code",
   "execution_count": 5,
   "id": "0838d3d2",
   "metadata": {},
   "outputs": [],
   "source": [
    "#16.3\n",
    "import csv\n",
    "\n",
    "with open('books2.csv', 'w', newline='') as file:\n",
    "    writer = csv.writer(file)\n",
    "    writer.writerow([\"title\", \"author\", \"year\"])\n",
    "    writer.writerow([\"The Weirdstone of Brisingamen\", \"Alan Garner\", 1960])\n",
    "    writer.writerow([\"Perdido Street Station\", \"China Miéville\", 2000])\n",
    "    writer.writerow([\"Thud!\", \"Terry Pratchett\", 2005])\n",
    "    writer.writerow([\"The Spellman Files\", \"Lisa Lutz\", 2007])\n",
    "    writer.writerow([\"Small Gods\", \"Terry Pratchett\", 1992])"
   ]
  },
  {
   "cell_type": "code",
   "execution_count": 6,
   "id": "745e4ecc",
   "metadata": {},
   "outputs": [],
   "source": [
    "#16.4\n",
    "import sqlite3\n",
    "\n",
    "conn = sqlite3.connect('books.db')\n",
    "c = conn.cursor()\n",
    "\n",
    "c.execute('''CREATE TABLE books\n",
    "             (title text, author text, year integer)''')\n",
    "\n",
    "conn.commit()\n",
    "\n",
    "conn.close()"
   ]
  },
  {
   "cell_type": "code",
   "execution_count": 7,
   "id": "56c3cbdf",
   "metadata": {},
   "outputs": [],
   "source": [
    "#16.5\n",
    "import csv\n",
    "import sqlite3\n",
    "\n",
    "conn = sqlite3.connect('books.db')\n",
    "c = conn.cursor()\n",
    "\n",
    "c.execute('''CREATE TABLE IF NOT EXISTS books\n",
    "             (title text, author text, year integer)''')\n",
    "\n",
    "with open('books2.csv', 'r') as file:\n",
    "    reader = csv.reader(file)\n",
    "    next(reader) # skip header row\n",
    "    for row in reader:\n",
    "        c.execute('INSERT INTO books (title, author, year) VALUES (?, ?, ?)', row)\n",
    "\n",
    "conn.commit()\n",
    "\n",
    "conn.close()"
   ]
  },
  {
   "cell_type": "code",
   "execution_count": 12,
   "id": "b3cd6767",
   "metadata": {},
   "outputs": [
    {
     "name": "stdout",
     "output_type": "stream",
     "text": [
      "2023-04-16 16:14:12,343 INFO sqlalchemy.engine.Engine SELECT books.title \n",
      "FROM books ORDER BY books.title\n",
      "2023-04-16 16:14:12,345 INFO sqlalchemy.engine.Engine [generated in 0.00201s] ()\n",
      "Perdido Street Station\n",
      "Small Gods\n",
      "The Spellman Files\n",
      "The Weirdstone of Brisingamen\n",
      "Thud!\n"
     ]
    }
   ],
   "source": [
    "#16.8\n",
    "from sqlalchemy import create_engine, select, Table, Column, Integer, String, MetaData\n",
    "\n",
    "engine = create_engine('sqlite:///books.db', echo=True)\n",
    "metadata = MetaData()\n",
    "\n",
    "books = Table('books', metadata,\n",
    "              Column('title', String),\n",
    "              Column('author', String),\n",
    "              Column('year', Integer))\n",
    "\n",
    "conn = engine.connect()\n",
    "\n",
    "result = conn.execute(select([books.c.title]).order_by(books.c.title))\n",
    "\n",
    "for row in result:\n",
    "    print(row['title'])\n",
    "\n",
    "conn.close()"
   ]
  }
 ],
 "metadata": {
  "kernelspec": {
   "display_name": "Python 3 (ipykernel)",
   "language": "python",
   "name": "python3"
  },
  "language_info": {
   "codemirror_mode": {
    "name": "ipython",
    "version": 3
   },
   "file_extension": ".py",
   "mimetype": "text/x-python",
   "name": "python",
   "nbconvert_exporter": "python",
   "pygments_lexer": "ipython3",
   "version": "3.10.9"
  }
 },
 "nbformat": 4,
 "nbformat_minor": 5
}
